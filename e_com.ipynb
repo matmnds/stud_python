{
  "cells": [
    {
      "cell_type": "markdown",
      "metadata": {
        "id": "view-in-github",
        "colab_type": "text"
      },
      "source": [
        "<a href=\"https://colab.research.google.com/github/matmnds/stud_python/blob/main/e_com.ipynb\" target=\"_parent\"><img src=\"https://colab.research.google.com/assets/colab-badge.svg\" alt=\"Open In Colab\"/></a>"
      ]
    },
    {
      "cell_type": "markdown",
      "metadata": {
        "id": "AjbIWA4girEG"
      },
      "source": [
        "## Цель анализа:\n",
        "Выбрать перспективных заказчиков товаров, исходя из суммы, размера и периодичности закупок, расположения, относительно центральных регионов России, выбора поставщиков по регионам России и других стран.\n",
        "\n",
        "Задачи:\n",
        "# 1. Сегментация заказчиков по объему и частоте закупок\n",
        "\n",
        "Цель: Разделить заказчиков на группы для персонализированного управления.\n",
        "\n",
        "Ожидаемый результат: 3-5 сегментов (например, «Крупные заказчики», «Мелкие заказчики»).\n",
        "\n",
        "Решение:\n",
        "- Кластеризация (k-means, иерархическая).\n",
        "- Рекомендации по работе с каждой группой.\n",
        "\n",
        "# 2. Анализ ассортимента потребностей заказчиков\n",
        "\n",
        "Цель: определить, какие категории товаров наиболее популярны среди заказчиков для маркетплейсов и какие заказчики закупают самый широкий ассортимент этих товаров.\n",
        "\n",
        "Ожидаемый результат: список заказчиков с самым широким ассортиментом для закупки товаров, а также список самых популярных категорий товаров заказчиков.\n",
        "\n",
        "Структура решения: сбор данных об ассортименте товаров у разных заказчиков, анализ популярности товаров на маркетплейсах, сравнение ассортимента заказчиков и определение лидеров по широте ассортимента популярных товаров.\n",
        "\n",
        "# 3. Сегментация заказчиков по территориальному выбору закупок\n",
        "\n",
        "Цель: отобразить территориальный выбор предложений заказчиками от поставщиков.\n",
        "\n",
        "Ожидаемый результат: список сегментов\n",
        "\n",
        "Структура решения: сбор данных о территориальном выборе поставщиков заказчиками, сравнение регионов доставки (вся Россия, ближайшие регионы и т.д.), анализ факторов, влияющих на выбор регионов.\n"
      ]
    },
    {
      "cell_type": "code",
      "execution_count": 3,
      "metadata": {
        "colab": {
          "base_uri": "https://localhost:8080/",
          "height": 365
        },
        "id": "B4Ez_FgqaSbP",
        "outputId": "9968cb83-6bf7-4838-ca72-d2b33d55361c"
      },
      "outputs": [
        {
          "output_type": "error",
          "ename": "FileNotFoundError",
          "evalue": "[Errno 2] No such file or directory: 'taskSupl.csv'",
          "traceback": [
            "\u001b[0;31m---------------------------------------------------------------------------\u001b[0m",
            "\u001b[0;31mFileNotFoundError\u001b[0m                         Traceback (most recent call last)",
            "\u001b[0;32m/tmp/ipython-input-3-776785280.py\u001b[0m in \u001b[0;36m<cell line: 0>\u001b[0;34m()\u001b[0m\n\u001b[1;32m      1\u001b[0m \u001b[0;32mimport\u001b[0m \u001b[0mpandas\u001b[0m \u001b[0;32mas\u001b[0m \u001b[0mpd\u001b[0m\u001b[0;34m\u001b[0m\u001b[0;34m\u001b[0m\u001b[0m\n\u001b[1;32m      2\u001b[0m \u001b[0;34m\u001b[0m\u001b[0m\n\u001b[0;32m----> 3\u001b[0;31m \u001b[0mdf\u001b[0m \u001b[0;34m=\u001b[0m \u001b[0mpd\u001b[0m\u001b[0;34m.\u001b[0m\u001b[0mread_csv\u001b[0m\u001b[0;34m(\u001b[0m\u001b[0;34m'taskSupl.csv'\u001b[0m\u001b[0;34m)\u001b[0m\u001b[0;34m\u001b[0m\u001b[0;34m\u001b[0m\u001b[0m\n\u001b[0m\u001b[1;32m      4\u001b[0m \u001b[0;34m\u001b[0m\u001b[0m\n\u001b[1;32m      5\u001b[0m \u001b[0;31m# Просмотр структуры данных\u001b[0m\u001b[0;34m\u001b[0m\u001b[0;34m\u001b[0m\u001b[0m\n",
            "\u001b[0;32m/usr/local/lib/python3.11/dist-packages/pandas/io/parsers/readers.py\u001b[0m in \u001b[0;36mread_csv\u001b[0;34m(filepath_or_buffer, sep, delimiter, header, names, index_col, usecols, dtype, engine, converters, true_values, false_values, skipinitialspace, skiprows, skipfooter, nrows, na_values, keep_default_na, na_filter, verbose, skip_blank_lines, parse_dates, infer_datetime_format, keep_date_col, date_parser, date_format, dayfirst, cache_dates, iterator, chunksize, compression, thousands, decimal, lineterminator, quotechar, quoting, doublequote, escapechar, comment, encoding, encoding_errors, dialect, on_bad_lines, delim_whitespace, low_memory, memory_map, float_precision, storage_options, dtype_backend)\u001b[0m\n\u001b[1;32m   1024\u001b[0m     \u001b[0mkwds\u001b[0m\u001b[0;34m.\u001b[0m\u001b[0mupdate\u001b[0m\u001b[0;34m(\u001b[0m\u001b[0mkwds_defaults\u001b[0m\u001b[0;34m)\u001b[0m\u001b[0;34m\u001b[0m\u001b[0;34m\u001b[0m\u001b[0m\n\u001b[1;32m   1025\u001b[0m \u001b[0;34m\u001b[0m\u001b[0m\n\u001b[0;32m-> 1026\u001b[0;31m     \u001b[0;32mreturn\u001b[0m \u001b[0m_read\u001b[0m\u001b[0;34m(\u001b[0m\u001b[0mfilepath_or_buffer\u001b[0m\u001b[0;34m,\u001b[0m \u001b[0mkwds\u001b[0m\u001b[0;34m)\u001b[0m\u001b[0;34m\u001b[0m\u001b[0;34m\u001b[0m\u001b[0m\n\u001b[0m\u001b[1;32m   1027\u001b[0m \u001b[0;34m\u001b[0m\u001b[0m\n\u001b[1;32m   1028\u001b[0m \u001b[0;34m\u001b[0m\u001b[0m\n",
            "\u001b[0;32m/usr/local/lib/python3.11/dist-packages/pandas/io/parsers/readers.py\u001b[0m in \u001b[0;36m_read\u001b[0;34m(filepath_or_buffer, kwds)\u001b[0m\n\u001b[1;32m    618\u001b[0m \u001b[0;34m\u001b[0m\u001b[0m\n\u001b[1;32m    619\u001b[0m     \u001b[0;31m# Create the parser.\u001b[0m\u001b[0;34m\u001b[0m\u001b[0;34m\u001b[0m\u001b[0m\n\u001b[0;32m--> 620\u001b[0;31m     \u001b[0mparser\u001b[0m \u001b[0;34m=\u001b[0m \u001b[0mTextFileReader\u001b[0m\u001b[0;34m(\u001b[0m\u001b[0mfilepath_or_buffer\u001b[0m\u001b[0;34m,\u001b[0m \u001b[0;34m**\u001b[0m\u001b[0mkwds\u001b[0m\u001b[0;34m)\u001b[0m\u001b[0;34m\u001b[0m\u001b[0;34m\u001b[0m\u001b[0m\n\u001b[0m\u001b[1;32m    621\u001b[0m \u001b[0;34m\u001b[0m\u001b[0m\n\u001b[1;32m    622\u001b[0m     \u001b[0;32mif\u001b[0m \u001b[0mchunksize\u001b[0m \u001b[0;32mor\u001b[0m \u001b[0miterator\u001b[0m\u001b[0;34m:\u001b[0m\u001b[0;34m\u001b[0m\u001b[0;34m\u001b[0m\u001b[0m\n",
            "\u001b[0;32m/usr/local/lib/python3.11/dist-packages/pandas/io/parsers/readers.py\u001b[0m in \u001b[0;36m__init__\u001b[0;34m(self, f, engine, **kwds)\u001b[0m\n\u001b[1;32m   1618\u001b[0m \u001b[0;34m\u001b[0m\u001b[0m\n\u001b[1;32m   1619\u001b[0m         \u001b[0mself\u001b[0m\u001b[0;34m.\u001b[0m\u001b[0mhandles\u001b[0m\u001b[0;34m:\u001b[0m \u001b[0mIOHandles\u001b[0m \u001b[0;34m|\u001b[0m \u001b[0;32mNone\u001b[0m \u001b[0;34m=\u001b[0m \u001b[0;32mNone\u001b[0m\u001b[0;34m\u001b[0m\u001b[0;34m\u001b[0m\u001b[0m\n\u001b[0;32m-> 1620\u001b[0;31m         \u001b[0mself\u001b[0m\u001b[0;34m.\u001b[0m\u001b[0m_engine\u001b[0m \u001b[0;34m=\u001b[0m \u001b[0mself\u001b[0m\u001b[0;34m.\u001b[0m\u001b[0m_make_engine\u001b[0m\u001b[0;34m(\u001b[0m\u001b[0mf\u001b[0m\u001b[0;34m,\u001b[0m \u001b[0mself\u001b[0m\u001b[0;34m.\u001b[0m\u001b[0mengine\u001b[0m\u001b[0;34m)\u001b[0m\u001b[0;34m\u001b[0m\u001b[0;34m\u001b[0m\u001b[0m\n\u001b[0m\u001b[1;32m   1621\u001b[0m \u001b[0;34m\u001b[0m\u001b[0m\n\u001b[1;32m   1622\u001b[0m     \u001b[0;32mdef\u001b[0m \u001b[0mclose\u001b[0m\u001b[0;34m(\u001b[0m\u001b[0mself\u001b[0m\u001b[0;34m)\u001b[0m \u001b[0;34m->\u001b[0m \u001b[0;32mNone\u001b[0m\u001b[0;34m:\u001b[0m\u001b[0;34m\u001b[0m\u001b[0;34m\u001b[0m\u001b[0m\n",
            "\u001b[0;32m/usr/local/lib/python3.11/dist-packages/pandas/io/parsers/readers.py\u001b[0m in \u001b[0;36m_make_engine\u001b[0;34m(self, f, engine)\u001b[0m\n\u001b[1;32m   1878\u001b[0m                 \u001b[0;32mif\u001b[0m \u001b[0;34m\"b\"\u001b[0m \u001b[0;32mnot\u001b[0m \u001b[0;32min\u001b[0m \u001b[0mmode\u001b[0m\u001b[0;34m:\u001b[0m\u001b[0;34m\u001b[0m\u001b[0;34m\u001b[0m\u001b[0m\n\u001b[1;32m   1879\u001b[0m                     \u001b[0mmode\u001b[0m \u001b[0;34m+=\u001b[0m \u001b[0;34m\"b\"\u001b[0m\u001b[0;34m\u001b[0m\u001b[0;34m\u001b[0m\u001b[0m\n\u001b[0;32m-> 1880\u001b[0;31m             self.handles = get_handle(\n\u001b[0m\u001b[1;32m   1881\u001b[0m                 \u001b[0mf\u001b[0m\u001b[0;34m,\u001b[0m\u001b[0;34m\u001b[0m\u001b[0;34m\u001b[0m\u001b[0m\n\u001b[1;32m   1882\u001b[0m                 \u001b[0mmode\u001b[0m\u001b[0;34m,\u001b[0m\u001b[0;34m\u001b[0m\u001b[0;34m\u001b[0m\u001b[0m\n",
            "\u001b[0;32m/usr/local/lib/python3.11/dist-packages/pandas/io/common.py\u001b[0m in \u001b[0;36mget_handle\u001b[0;34m(path_or_buf, mode, encoding, compression, memory_map, is_text, errors, storage_options)\u001b[0m\n\u001b[1;32m    871\u001b[0m         \u001b[0;32mif\u001b[0m \u001b[0mioargs\u001b[0m\u001b[0;34m.\u001b[0m\u001b[0mencoding\u001b[0m \u001b[0;32mand\u001b[0m \u001b[0;34m\"b\"\u001b[0m \u001b[0;32mnot\u001b[0m \u001b[0;32min\u001b[0m \u001b[0mioargs\u001b[0m\u001b[0;34m.\u001b[0m\u001b[0mmode\u001b[0m\u001b[0;34m:\u001b[0m\u001b[0;34m\u001b[0m\u001b[0;34m\u001b[0m\u001b[0m\n\u001b[1;32m    872\u001b[0m             \u001b[0;31m# Encoding\u001b[0m\u001b[0;34m\u001b[0m\u001b[0;34m\u001b[0m\u001b[0m\n\u001b[0;32m--> 873\u001b[0;31m             handle = open(\n\u001b[0m\u001b[1;32m    874\u001b[0m                 \u001b[0mhandle\u001b[0m\u001b[0;34m,\u001b[0m\u001b[0;34m\u001b[0m\u001b[0;34m\u001b[0m\u001b[0m\n\u001b[1;32m    875\u001b[0m                 \u001b[0mioargs\u001b[0m\u001b[0;34m.\u001b[0m\u001b[0mmode\u001b[0m\u001b[0;34m,\u001b[0m\u001b[0;34m\u001b[0m\u001b[0;34m\u001b[0m\u001b[0m\n",
            "\u001b[0;31mFileNotFoundError\u001b[0m: [Errno 2] No such file or directory: 'taskSupl.csv'"
          ]
        }
      ],
      "source": [
        "import pandas as pd\n",
        "\n",
        "df = pd.read_csv('taskSupl.csv')\n",
        "\n",
        "# Просмотр структуры данных\n",
        "print(df.shape)\n",
        "df.head()"
      ]
    },
    {
      "cell_type": "code",
      "execution_count": null,
      "metadata": {
        "id": "8WTxKvtTbRCP"
      },
      "outputs": [],
      "source": [
        "# Привожу названия столбцов к удобному формату\n",
        "df.columns = df.columns.str.strip().str.replace(' ', '_')\n",
        "\n",
        "# Группировка: кол-во заказов и распределение по размеру\n",
        "grouped = df.groupby('Заказчик').agg({\n",
        "    'Дата_заказа': 'count',\n",
        "    'Размер_заказа': lambda x: x.mode()[0] if not x.mode().empty else x.iloc[0]\n",
        "}).rename(columns={'Дата_заказа': 'Частота_заказов'})\n",
        "\n",
        "grouped.head()"
      ]
    },
    {
      "cell_type": "code",
      "execution_count": null,
      "metadata": {
        "id": "BdWM3YRcbUKQ"
      },
      "outputs": [],
      "source": [
        "from sklearn.preprocessing import LabelEncoder\n",
        "from sklearn.cluster import KMeans\n",
        "import matplotlib.pyplot as plt\n",
        "\n",
        "# Кодирую размер заказа\n",
        "size_encoder = LabelEncoder()\n",
        "grouped['Размер_заказа_число'] = size_encoder.fit_transform(grouped['Размер_заказа'])\n",
        "\n",
        "# KMeans кластеризация\n",
        "X = grouped[['Частота_заказов', 'Размер_заказа_число']]\n",
        "kmeans = KMeans(n_clusters=4, random_state=0).fit(X)\n",
        "grouped['Кластер'] = kmeans.labels_\n",
        "\n",
        "# Визуализация\n",
        "plt.figure(figsize=(8,6))\n",
        "plt.scatter(X['Частота_заказов'], X['Размер_заказа_число'], c=grouped['Кластер'], cmap='viridis')\n",
        "plt.xlabel('Частота заказов')\n",
        "plt.ylabel('Размер заказа (число)')\n",
        "plt.title('Сегментация заказчиков')\n",
        "plt.grid(True)\n",
        "plt.show()"
      ]
    },
    {
      "cell_type": "markdown",
      "metadata": {
        "id": "ugBrYdHkgIO-"
      },
      "source": [
        "На графике представлена кластеризация заказчиков по двум признакам:\n",
        "\n",
        "Частота заказов (ось X)\n",
        "\n",
        "Размер заказа (ось Y, числовое представление)\n",
        "\n",
        "**Наблюдения:**\n",
        "\n",
        "Разделение на сегменты чётко прослеживается:\n",
        "\n",
        "Кластер с высокими размерами заказов, но низкой частотой — возможно, крупные клиенты, делающие редкие, но объёмные закупки.\n",
        "\n",
        "Кластер с низкой частотой и маленьким размером заказов — это, скорее всего, мелкие клиенты с нерегулярными покупками.\n",
        "\n",
        "Есть группа клиентов со средним размером и частотой — возможно, перспективные заказчики, к которым можно применить стимулирующие меры (скидки, спецпредложения).\n",
        "\n"
      ]
    },
    {
      "cell_type": "code",
      "execution_count": null,
      "metadata": {
        "id": "aKeQ9SuYbt7a"
      },
      "outputs": [],
      "source": [
        "# Уникальные рубрики по заказчику\n",
        "assortment = df.groupby('Заказчик').agg({\n",
        "    'Рубрики': pd.Series.nunique\n",
        "}).rename(columns={'Рубрики': 'Широта_ассортимента'}).sort_values(by='Широта_ассортимента', ascending=False)\n",
        "\n",
        "# Топ-10 заказчиков по широте ассортимента\n",
        "print(assortment.head(10))\n",
        "\n",
        "# Популярность категорий в целом\n",
        "popular_categories = df['Рубрики'].value_counts().head(10)\n",
        "print(popular_categories)"
      ]
    },
    {
      "cell_type": "code",
      "execution_count": null,
      "metadata": {
        "id": "DuVDO-3GbxEQ"
      },
      "outputs": [],
      "source": [
        "# Привожу регионы к списку\n",
        "df['Регион_список'] = df['Регионы'].str.split(',')\n",
        "\n",
        "# Кол-во уникальных регионов на заказчика\n",
        "territory = df.explode('Регион_список').groupby('Заказчик')['Регион_список'].nunique()\n",
        "territory = territory.rename('Уникальные_регионы').sort_values(ascending=False)\n",
        "\n",
        "# Сегментация по регионам\n",
        "territory.describe()"
      ]
    },
    {
      "cell_type": "code",
      "execution_count": null,
      "metadata": {
        "id": "ENM86G0hb4Ie"
      },
      "outputs": [],
      "source": [
        "# Кластеризация по территориальному охвату\n",
        "from sklearn.preprocessing import StandardScaler\n",
        "\n",
        "X_territory = territory.to_frame()\n",
        "scaler = StandardScaler()\n",
        "X_scaled = scaler.fit_transform(X_territory)\n",
        "\n",
        "kmeans = KMeans(n_clusters=3, random_state=1).fit(X_scaled)\n",
        "X_territory['Кластер'] = kmeans.labels_\n",
        "\n",
        "print(X_territory.groupby('Кластер').mean())"
      ]
    },
    {
      "cell_type": "code",
      "execution_count": null,
      "metadata": {
        "id": "4mbqLLJzdoP0"
      },
      "outputs": [],
      "source": [
        "# Привежу названия колонки с заказчиком к строковому типу (на всякий случай)\n",
        "df['Заказчик'] = df['Заказчик'].astype(str)\n",
        "\n",
        "# Разделю регионы (они перечислены через запятую) и посчитаю уникальные регионы для каждого заказчика\n",
        "df['Регионы'] = df['Регионы'].fillna('').astype(str)\n",
        "\n",
        "# Разделю регионы и создам отдельные строки для каждого региона\n",
        "df_regions_exploded = df.assign(Регион_один=df['Регионы'].str.split(',')).explode('Регион_один')\n",
        "\n",
        "# Очищу пробелы\n",
        "df_regions_exploded['Регион_один'] = df_regions_exploded['Регион_один'].str.strip()\n",
        "\n",
        "# Группировка: сколько уникальных регионов у каждого заказчика\n",
        "region_counts = (\n",
        "    df_regions_exploded\n",
        "    .groupby('Заказчик')['Регион_один']\n",
        "    .nunique()\n",
        "    .reset_index()\n",
        "    .rename(columns={'Регион_один': 'Уникальные_регионы'})\n",
        ")\n",
        "\n",
        "# Добавлю сортировку по убыванию — рейтинг\n",
        "region_counts_sorted = region_counts.sort_values(by='Уникальные_регионы', ascending=False).reset_index(drop=True)\n",
        "\n",
        "# Вывод топ-10\n",
        "region_counts_sorted.head(10)"
      ]
    },
    {
      "cell_type": "markdown",
      "metadata": {
        "id": "CZPWjh_Fe5UL"
      },
      "source": [
        "На основе анализа количества уникальных регионов, с которыми работают заказчики, были выявлены топ-10 самых географически активных клиентов.\n",
        "\n",
        "Лидер: заказчик 2276106 охватывает 14 различных регионов — это наиболее перспективный клиент с точки зрения масштабируемости и логистических возможностей.\n",
        "\n",
        "Следом идут заказчики 2078875 (12 регионов) и группа из 8 заказчиков, каждый из которых охватывает 10 регионов.\n",
        "\n",
        "Такие заказчики имеют высокий потенциал для расширения сотрудничества на федеральном уровне и являются приоритетными для целевых предложений и долгосрочного партнёрства."
      ]
    },
    {
      "cell_type": "code",
      "execution_count": null,
      "metadata": {
        "id": "CABnsQLjfB_g"
      },
      "outputs": [],
      "source": [
        "import seaborn as sns\n",
        "\n",
        "# Убеждаюсь, что данные отсортированы\n",
        "top_10_regions = region_counts_sorted.head(10)\n",
        "\n",
        "# Устанавливаю стиль\n",
        "sns.set(style=\"whitegrid\")\n",
        "\n",
        "# Строю горизонтальный barplot\n",
        "plt.figure(figsize=(10, 6))\n",
        "sns.barplot(\n",
        "    data=top_10_regions,\n",
        "    y='Заказчик',\n",
        "    x='Уникальные_регионы',\n",
        "    palette='Blues_d'\n",
        ")\n",
        "\n",
        "# Подписи и оформление\n",
        "plt.title('Топ-10 заказчиков по числу уникальных регионов', fontsize=14)\n",
        "plt.xlabel('Количество уникальных регионов')\n",
        "plt.ylabel('ID заказчика')\n",
        "plt.tight_layout()\n",
        "plt.show()"
      ]
    }
  ],
  "metadata": {
    "colab": {
      "provenance": [],
      "include_colab_link": true
    },
    "kernelspec": {
      "display_name": "Python 3",
      "name": "python3"
    },
    "language_info": {
      "name": "python"
    }
  },
  "nbformat": 4,
  "nbformat_minor": 0
}
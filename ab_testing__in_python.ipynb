{
  "nbformat": 4,
  "nbformat_minor": 0,
  "metadata": {
    "colab": {
      "provenance": [],
      "include_colab_link": true
    },
    "kernelspec": {
      "name": "python3",
      "display_name": "Python 3"
    },
    "language_info": {
      "name": "python"
    }
  },
  "cells": [
    {
      "cell_type": "markdown",
      "metadata": {
        "id": "view-in-github",
        "colab_type": "text"
      },
      "source": [
        "<a href=\"https://colab.research.google.com/github/matmnds/stud_python/blob/main/ab_testing__in_python.ipynb\" target=\"_parent\"><img src=\"https://colab.research.google.com/assets/colab-badge.svg\" alt=\"Open In Colab\"/></a>"
      ]
    },
    {
      "cell_type": "markdown",
      "source": [
        "1. Загрузка необходимых модулей/библиотек"
      ],
      "metadata": {
        "id": "udMzyXbm_hYb"
      }
    },
    {
      "cell_type": "code",
      "execution_count": null,
      "metadata": {
        "id": "ePCQk1KOYTlo"
      },
      "outputs": [],
      "source": [
        "import random # модуль генерации случайных значений, необходимый для создания тестовых примеров и работы статистических тестов\n",
        "\n",
        "import numpy as np # модуль работы с табличными данными, выраженными в виде матриц и массивов. Необходим для подсчета различных статистик типа среднего и стандартного отклонения\n",
        "import pandas as pd # модуль работы с табличными данными, преобразующий их в дата фреймы\n",
        "from scipy import stats # модуль работы с тестами, позволяет вызывать функции, вычисляющие статистики, необходимые для выводов о различии данных\n",
        "\n",
        "import matplotlib.pyplot as plt # модуль работы с визуализацией, позволяющий генерировать графики, необходимые для работы - гистограммы, линейные графики и пр."
      ]
    },
    {
      "cell_type": "markdown",
      "source": [
        "2. Загрузка данных, необходимых для работы"
      ],
      "metadata": {
        "id": "CFnlP8c8a7GX"
      }
    },
    {
      "cell_type": "code",
      "source": [
        "# Загружаем обучающие данные с разделенными столбцами на контрольную и экспериментальную группы в виде датафрейма от pandas\n",
        "data = pd.read_csv(\"ab_test_data.csv\")"
      ],
      "metadata": {
        "id": "FwfCs3-zaprX"
      },
      "execution_count": null,
      "outputs": []
    },
    {
      "cell_type": "code",
      "source": [
        "data.head()"
      ],
      "metadata": {
        "colab": {
          "base_uri": "https://localhost:8080/",
          "height": 206
        },
        "id": "MJuC-IVfN8M9",
        "outputId": "a0eba7e1-cab9-4b09-81af-108cd9f948db"
      },
      "execution_count": null,
      "outputs": [
        {
          "output_type": "execute_result",
          "data": {
            "text/plain": [
              "   control  treatment\n",
              "0     1.15       2.93\n",
              "1     1.15       3.24\n",
              "2     1.07       4.05\n",
              "3     1.15       3.50\n",
              "4     0.93       4.27"
            ],
            "text/html": [
              "\n",
              "  <div id=\"df-7e799175-81ea-485a-ad80-031941402100\">\n",
              "    <div class=\"colab-df-container\">\n",
              "      <div>\n",
              "<style scoped>\n",
              "    .dataframe tbody tr th:only-of-type {\n",
              "        vertical-align: middle;\n",
              "    }\n",
              "\n",
              "    .dataframe tbody tr th {\n",
              "        vertical-align: top;\n",
              "    }\n",
              "\n",
              "    .dataframe thead th {\n",
              "        text-align: right;\n",
              "    }\n",
              "</style>\n",
              "<table border=\"1\" class=\"dataframe\">\n",
              "  <thead>\n",
              "    <tr style=\"text-align: right;\">\n",
              "      <th></th>\n",
              "      <th>control</th>\n",
              "      <th>treatment</th>\n",
              "    </tr>\n",
              "  </thead>\n",
              "  <tbody>\n",
              "    <tr>\n",
              "      <th>0</th>\n",
              "      <td>1.15</td>\n",
              "      <td>2.93</td>\n",
              "    </tr>\n",
              "    <tr>\n",
              "      <th>1</th>\n",
              "      <td>1.15</td>\n",
              "      <td>3.24</td>\n",
              "    </tr>\n",
              "    <tr>\n",
              "      <th>2</th>\n",
              "      <td>1.07</td>\n",
              "      <td>4.05</td>\n",
              "    </tr>\n",
              "    <tr>\n",
              "      <th>3</th>\n",
              "      <td>1.15</td>\n",
              "      <td>3.50</td>\n",
              "    </tr>\n",
              "    <tr>\n",
              "      <th>4</th>\n",
              "      <td>0.93</td>\n",
              "      <td>4.27</td>\n",
              "    </tr>\n",
              "  </tbody>\n",
              "</table>\n",
              "</div>\n",
              "      <button class=\"colab-df-convert\" onclick=\"convertToInteractive('df-7e799175-81ea-485a-ad80-031941402100')\"\n",
              "              title=\"Convert this dataframe to an interactive table.\"\n",
              "              style=\"display:none;\">\n",
              "        \n",
              "  <svg xmlns=\"http://www.w3.org/2000/svg\" height=\"24px\"viewBox=\"0 0 24 24\"\n",
              "       width=\"24px\">\n",
              "    <path d=\"M0 0h24v24H0V0z\" fill=\"none\"/>\n",
              "    <path d=\"M18.56 5.44l.94 2.06.94-2.06 2.06-.94-2.06-.94-.94-2.06-.94 2.06-2.06.94zm-11 1L8.5 8.5l.94-2.06 2.06-.94-2.06-.94L8.5 2.5l-.94 2.06-2.06.94zm10 10l.94 2.06.94-2.06 2.06-.94-2.06-.94-.94-2.06-.94 2.06-2.06.94z\"/><path d=\"M17.41 7.96l-1.37-1.37c-.4-.4-.92-.59-1.43-.59-.52 0-1.04.2-1.43.59L10.3 9.45l-7.72 7.72c-.78.78-.78 2.05 0 2.83L4 21.41c.39.39.9.59 1.41.59.51 0 1.02-.2 1.41-.59l7.78-7.78 2.81-2.81c.8-.78.8-2.07 0-2.86zM5.41 20L4 18.59l7.72-7.72 1.47 1.35L5.41 20z\"/>\n",
              "  </svg>\n",
              "      </button>\n",
              "      \n",
              "  <style>\n",
              "    .colab-df-container {\n",
              "      display:flex;\n",
              "      flex-wrap:wrap;\n",
              "      gap: 12px;\n",
              "    }\n",
              "\n",
              "    .colab-df-convert {\n",
              "      background-color: #E8F0FE;\n",
              "      border: none;\n",
              "      border-radius: 50%;\n",
              "      cursor: pointer;\n",
              "      display: none;\n",
              "      fill: #1967D2;\n",
              "      height: 32px;\n",
              "      padding: 0 0 0 0;\n",
              "      width: 32px;\n",
              "    }\n",
              "\n",
              "    .colab-df-convert:hover {\n",
              "      background-color: #E2EBFA;\n",
              "      box-shadow: 0px 1px 2px rgba(60, 64, 67, 0.3), 0px 1px 3px 1px rgba(60, 64, 67, 0.15);\n",
              "      fill: #174EA6;\n",
              "    }\n",
              "\n",
              "    [theme=dark] .colab-df-convert {\n",
              "      background-color: #3B4455;\n",
              "      fill: #D2E3FC;\n",
              "    }\n",
              "\n",
              "    [theme=dark] .colab-df-convert:hover {\n",
              "      background-color: #434B5C;\n",
              "      box-shadow: 0px 1px 3px 1px rgba(0, 0, 0, 0.15);\n",
              "      filter: drop-shadow(0px 1px 2px rgba(0, 0, 0, 0.3));\n",
              "      fill: #FFFFFF;\n",
              "    }\n",
              "  </style>\n",
              "\n",
              "      <script>\n",
              "        const buttonEl =\n",
              "          document.querySelector('#df-7e799175-81ea-485a-ad80-031941402100 button.colab-df-convert');\n",
              "        buttonEl.style.display =\n",
              "          google.colab.kernel.accessAllowed ? 'block' : 'none';\n",
              "\n",
              "        async function convertToInteractive(key) {\n",
              "          const element = document.querySelector('#df-7e799175-81ea-485a-ad80-031941402100');\n",
              "          const dataTable =\n",
              "            await google.colab.kernel.invokeFunction('convertToInteractive',\n",
              "                                                     [key], {});\n",
              "          if (!dataTable) return;\n",
              "\n",
              "          const docLinkHtml = 'Like what you see? Visit the ' +\n",
              "            '<a target=\"_blank\" href=https://colab.research.google.com/notebooks/data_table.ipynb>data table notebook</a>'\n",
              "            + ' to learn more about interactive tables.';\n",
              "          element.innerHTML = '';\n",
              "          dataTable['output_type'] = 'display_data';\n",
              "          await google.colab.output.renderOutput(dataTable, element);\n",
              "          const docLink = document.createElement('div');\n",
              "          docLink.innerHTML = docLinkHtml;\n",
              "          element.appendChild(docLink);\n",
              "        }\n",
              "      </script>\n",
              "    </div>\n",
              "  </div>\n",
              "  "
            ]
          },
          "metadata": {},
          "execution_count": 19
        }
      ]
    },
    {
      "cell_type": "code",
      "source": [
        "data.shape"
      ],
      "metadata": {
        "colab": {
          "base_uri": "https://localhost:8080/"
        },
        "id": "nALfRFoyOEAJ",
        "outputId": "5b81a614-9cb9-4f2a-8588-d016127fef0e"
      },
      "execution_count": null,
      "outputs": [
        {
          "output_type": "execute_result",
          "data": {
            "text/plain": [
              "(200, 2)"
            ]
          },
          "metadata": {},
          "execution_count": 20
        }
      ]
    },
    {
      "cell_type": "code",
      "source": [
        "# Выделяем контрольную и экспериментальные группы из датафрейма\n",
        "control_group = data['control']\n",
        "treatment_group = data['treatment']"
      ],
      "metadata": {
        "id": "K4anPgCAavxZ"
      },
      "execution_count": null,
      "outputs": []
    },
    {
      "cell_type": "code",
      "source": [
        "# Оценим размеры выборок\n",
        "control_group.shape, treatment_group.shape"
      ],
      "metadata": {
        "colab": {
          "base_uri": "https://localhost:8080/"
        },
        "id": "udywciQEec8z",
        "outputId": "c1e4a599-f9c2-40cd-fb30-76ceda3023bc"
      },
      "execution_count": null,
      "outputs": [
        {
          "output_type": "execute_result",
          "data": {
            "text/plain": [
              "((200,), (200,))"
            ]
          },
          "metadata": {},
          "execution_count": 22
        }
      ]
    },
    {
      "cell_type": "code",
      "source": [
        "\"\"\"\n",
        "В некоторых случаях нам может потребоваться вычисление базовых статистик, таких как среднее и стандратное отклонение.\n",
        "Для их вычисления мы можем воспользоваться командами mean и std, которые позволяют провести эти вычисления. Эти команды могут быть использованы сразу на массиве, как в примере внизу,\n",
        "так и отдельно через команды numpy.std() или numpy.mean().\n",
        "\"\"\"\n",
        "# вычисления средних\n",
        "control_mean = control_group.mean()\n",
        "treatment_mean = treatment_group.mean()\n",
        "\n",
        "# вычисления стандартных отклонений\n",
        "control_std = control_group.std()\n",
        "treatment_std = treatment_group.std()\n",
        "\n",
        "# Выведем значения полученных статистик\n",
        "print(f\"Контрольная группа. \\nСреднее значение: {control_mean} \\nСтандр. отклонение: {control_std}\")\n",
        "print(f\"Экспериментальная группа. \\nСреднее значение: {treatment_mean} \\nСтандр. отклонение: {treatment_std}\")\n"
      ],
      "metadata": {
        "id": "71Jp5isjaxzn",
        "colab": {
          "base_uri": "https://localhost:8080/"
        },
        "outputId": "1756ae0d-6c5b-49e2-f5de-38a582f0335d"
      },
      "execution_count": null,
      "outputs": [
        {
          "output_type": "stream",
          "name": "stdout",
          "text": [
            "Контрольная группа. \n",
            "Среднее значение: 1.7345499999999998 \n",
            "Стандр. отклонение: 0.5755965203780828\n",
            "Экспериментальная группа. \n",
            "Среднее значение: 3.1433 \n",
            "Стандр. отклонение: 0.561596888636888\n"
          ]
        }
      ]
    },
    {
      "cell_type": "code",
      "source": [
        "round(1.7345499999999998, 3)"
      ],
      "metadata": {
        "colab": {
          "base_uri": "https://localhost:8080/"
        },
        "id": "sWzZyvS3OfhO",
        "outputId": "50f473a6-9c28-4ac2-9ef0-679a3d111a4d"
      },
      "execution_count": null,
      "outputs": [
        {
          "output_type": "execute_result",
          "data": {
            "text/plain": [
              "1.735"
            ]
          },
          "metadata": {},
          "execution_count": 24
        }
      ]
    },
    {
      "cell_type": "markdown",
      "source": [
        "3. Визуализация данных для оценки их свойств"
      ],
      "metadata": {
        "id": "YsQOeqDUbBuI"
      }
    },
    {
      "cell_type": "code",
      "source": [
        "# Построим гистограммы\n",
        "plt.hist(control_group, alpha=0.5, label='Контрольная группа')\n",
        "plt.hist(treatment_group, alpha=0.5, label='Экспериментальная группа')\n",
        "\n",
        "# Добавим легенду и подпишем оси\n",
        "plt.legend()\n",
        "plt.xlabel('Значение липофильности')\n",
        "plt.ylabel('Частота')\n",
        "\n",
        "# Покажем графики\n",
        "plt.show()\n"
      ],
      "metadata": {
        "id": "o9koRmFSbHPr",
        "colab": {
          "base_uri": "https://localhost:8080/",
          "height": 449
        },
        "outputId": "d5bccd72-cfdf-4e84-97af-90438de79217"
      },
      "execution_count": null,
      "outputs": [
        {
          "output_type": "display_data",
          "data": {
            "text/plain": [
              "<Figure size 640x480 with 1 Axes>"
            ],
            "image/png": "[encoded data removed]"
          },
          "metadata": {}
        }
      ]
    },
    {
      "cell_type": "markdown",
      "source": [
        "4. Вычисление t-статистик и p-значений"
      ],
      "metadata": {
        "id": "4e1GFhMEgCEC"
      }
    },
    {
      "cell_type": "code",
      "source": [
        "\"\"\"\n",
        "Используем t-test функцию из модуля stats для сравнения контрольной и экспериментальной группы.\n",
        "\n",
        "\"\"\"\n",
        "# Вызов функции с аргументами, где входами являются контрольная и экспериментальная группы\n",
        "t, p = stats.ttest_ind(control_group, treatment_group)\n",
        "\n",
        "# Проинтерпретируем  получившиеся p-значения\n",
        "if p < 0.05:\n",
        "    print(\"Разница между группами статистически значима.\")\n",
        "else:\n",
        "    print(\"Разница между группами статистически незначима.\")\n",
        "\n",
        "# Вычислим разницу между средними для оценки, насколько две выборки различаются\n",
        "lift = treatment_mean - control_mean\n",
        "print(\"Разница между средними:\", lift)\n"
      ],
      "metadata": {
        "id": "qd6li0Gparkf",
        "colab": {
          "base_uri": "https://localhost:8080/"
        },
        "outputId": "925b8552-a826-4cc6-a1e6-cf7d32de874f"
      },
      "execution_count": null,
      "outputs": [
        {
          "output_type": "stream",
          "name": "stdout",
          "text": [
            "Разница между группами статистически значима.\n",
            "Разница между средними: 1.4087500000000002\n"
          ]
        }
      ]
    },
    {
      "cell_type": "code",
      "source": [
        "\"\"\"\n",
        "В некоторых случаях нам удобно использовать функции, имеющие удобный для пользователя интерфейс.\n",
        "Например, быть вызываемыми по имени и получать на вход набор выборок, которые необходимо сравнить\n",
        "\n",
        "\"\"\"\n",
        "\n",
        "def ab_test(groupA, groupB):\n",
        "    # Вычислим двухвыборочный t-тест\n",
        "    t, p = stats.ttest_ind(groupA, groupB)\n",
        "\n",
        "    # Вычислим средние и стандартные отклонения\n",
        "    meanA = np.mean(groupA)\n",
        "    meanB = np.mean(groupB)\n",
        "    stdA = np.std(groupA)\n",
        "    stdB = np.std(groupB)\n",
        "\n",
        "\n",
        "    # Напечатаем результаты\n",
        "    print(f\"Группа A: Mean={meanA:.2f}, Std. Dev.={stdA:.2f}\")\n",
        "    print(f\"Группа B: Mean={meanB:.2f}, Std. Dev.={stdB:.2f}\")\n",
        "    print(f\"t-статистика: {t:.2f}\")\n",
        "    print(f\"p-значение: {p:.4f}\")\n",
        "\n",
        "    # Интерпретируем результаты\n",
        "    if p < 0.05:\n",
        "        print(\"Отбросим нулевую гипотезу, группы различаются\")\n",
        "    else:\n",
        "     print(\"Невозможно отбросить нулевую гипотезу, группы не разные\")"
      ],
      "metadata": {
        "id": "ORs2_sLmbP2O"
      },
      "execution_count": null,
      "outputs": []
    },
    {
      "cell_type": "code",
      "source": [
        "\"\"\"\n",
        "Сгенерируем выборки случайным образом и оценим работу написанной свыше функции.\n",
        "Сделаем это с помощью модуля random и его функции randint, работа которой заключается\n",
        "в генерировании случайных целочисленных значений\n",
        "\n",
        "\"\"\"\n",
        "groupA = [random.randint(0, 100) for i in range(50)]\n",
        "groupB = [random.randint(0, 100) for i in range(50)]\n",
        "\n",
        "# Оценим выборки, полученные в результате создания случайных массивов данных\n",
        "ab_test(groupA, groupB)\n",
        "\n",
        "# Оценим выборки, полученные в результате A/B тестирования\n",
        "ab_test(control_group, treatment_group)"
      ],
      "metadata": {
        "id": "4FY68LUob7Uw",
        "colab": {
          "base_uri": "https://localhost:8080/"
        },
        "outputId": "b4d4ff90-b4fc-47fb-b52e-8acc6436fe31"
      },
      "execution_count": null,
      "outputs": [
        {
          "output_type": "stream",
          "name": "stdout",
          "text": [
            "Группа A: Mean=51.72, Std. Dev.=28.91\n",
            "Группа B: Mean=57.30, Std. Dev.=27.05\n",
            "t-статистика: -0.99\n",
            "p-значение: 0.3263\n",
            "Невозможно отбросить нулевую гипотезу, группы не разные\n",
            "Группа A: Mean=1.73, Std. Dev.=0.57\n",
            "Группа B: Mean=3.14, Std. Dev.=0.56\n",
            "t-статистика: -24.77\n",
            "p-значение: 0.0000\n",
            "Отбросим нулевую гипотезу, группы различаются\n"
          ]
        }
      ]
    },
    {
      "cell_type": "markdown",
      "source": [
        "5. Функция расчета различных статистических тестов"
      ],
      "metadata": {
        "id": "mfH1XUUUcLDd"
      }
    },
    {
      "cell_type": "code",
      "source": [
        "\"\"\"\n",
        "Также в случае различных свойств данных крайне удобно передавать на вход функции желаемый для использования тест.\n",
        "Это можно реализовать с помощью переменной test, которая имеет заранее определенное число значений (вариантов), и пользователю нужно лишь\n",
        "описать все возможные варианты в связи с выбранным значением переменной test\n",
        "\"\"\"\n",
        "\n",
        "def ab_test(groupA, groupB, test='t'):\n",
        "\n",
        "    # Конструкция, позволяющая выбрать необходимый тест в зависимости от поданных значений аргументов\n",
        "    if test == 't':\n",
        "        # Независимый двух-выборочный t-test\n",
        "        t, p = stats.ttest_ind(groupA, groupB)\n",
        "        test_name = \"Независимый двух-выборочный t-test\"\n",
        "    elif test == 'w':\n",
        "        # Тест Манна-Уитни\n",
        "        u, p = stats.mannwhitneyu(groupA, groupB)\n",
        "        test_name = \"Тест Манна-Уитни\"\n",
        "    elif test == 'p':\n",
        "        # Т-критерий Уилкоксона\n",
        "        z, p = stats.wilcoxon(groupA, groupB)\n",
        "        test_name = \"Т-критерий Уилкоксона\"\n",
        "    else:\n",
        "        print(\"Неизвестный тест либо тест не задан\")\n",
        "        return\n",
        "\n",
        "    # Вычисление средних значений и стандартных отклонений\n",
        "    meanA = np.mean(groupA)\n",
        "    meanB = np.mean(groupB)\n",
        "    stdA = np.std(groupA)\n",
        "    stdB = np.std(groupB)\n",
        "\n",
        "    # Вывод результатов\n",
        "    print(f\"{test_name}:\")\n",
        "    print(f\"Группа A: Mean={meanA:.2f}, Std. Dev.={stdA:.2f}\")\n",
        "    print(f\"Группа B: Mean={meanB:.2f}, Std. Dev.={stdB:.2f}\")\n",
        "    if test == 't':\n",
        "        print(f\"t-statistic: {t:.2f}\")\n",
        "    elif test == 'w':\n",
        "        print(f\"U-statistic: {u:.2f}\")\n",
        "    elif test == 'p':\n",
        "        print(f\"z-statistic: {z:.2f}\")\n",
        "    print(f\"p-value: {p:.4f}\")\n",
        "\n",
        "    # Интерпретируем результаты\n",
        "    if p < 0.05:\n",
        "        print(\"Отбрасываем нулевую гипотезу, группы отличаются\")\n",
        "    else:\n",
        "        print(\"Невозможно отбросить нулевую гипотезу, группы не отличаются!\")\n"
      ],
      "metadata": {
        "id": "hrF_Z9c3b8CS"
      },
      "execution_count": null,
      "outputs": []
    },
    {
      "cell_type": "code",
      "source": [
        "# Сгенерированные данные\n",
        "groupA = [random.randint(0, 100) for i in range(50)]\n",
        "groupB = [random.randint(0, 100) for i in range(50)]\n",
        "\n",
        "# Проведем A/B тестирование с различными статистическими тестами\n",
        "ab_test(groupA, groupB, test='t')\n",
        "print()\n",
        "ab_test(groupA, groupB, test='w')\n",
        "print()\n",
        "ab_test(groupA, groupB, test='p')\n"
      ],
      "metadata": {
        "id": "sQLtMvRxce52",
        "colab": {
          "base_uri": "https://localhost:8080/"
        },
        "outputId": "ac38a6d7-de06-437e-8e4e-5675c2f27a8a"
      },
      "execution_count": null,
      "outputs": [
        {
          "output_type": "stream",
          "name": "stdout",
          "text": [
            "Независимый двух-выборочный t-test:\n",
            "Группа A: Mean=51.38, Std. Dev.=26.49\n",
            "Группа B: Mean=48.50, Std. Dev.=30.57\n",
            "t-statistic: 0.50\n",
            "p-value: 0.6193\n",
            "Невозможно отбросить нулевую гипотезу, группы не отличаются!\n",
            "\n",
            "Тест Манна-Уитни:\n",
            "Группа A: Mean=51.38, Std. Dev.=26.49\n",
            "Группа B: Mean=48.50, Std. Dev.=30.57\n",
            "U-statistic: 1324.00\n",
            "p-value: 0.6123\n",
            "Невозможно отбросить нулевую гипотезу, группы не отличаются!\n",
            "\n",
            "Т-критерий Уилкоксона:\n",
            "Группа A: Mean=51.38, Std. Dev.=26.49\n",
            "Группа B: Mean=48.50, Std. Dev.=30.57\n",
            "z-statistic: 565.00\n",
            "p-value: 0.4903\n",
            "Невозможно отбросить нулевую гипотезу, группы не отличаются!\n"
          ]
        }
      ]
    },
    {
      "cell_type": "code",
      "source": [
        "# Проведем A/B тестирование с различными статистическими тестами\n",
        "ab_test(control_group, treatment_group, test='t')\n",
        "print()\n",
        "ab_test(control_group, treatment_group, test='w')\n",
        "print()\n",
        "ab_test(control_group, treatment_group, test='p')\n"
      ],
      "metadata": {
        "colab": {
          "base_uri": "https://localhost:8080/"
        },
        "id": "pODebhuUQt-c",
        "outputId": "965db59d-b880-4f8e-c4b6-aa1fb63d96c4"
      },
      "execution_count": null,
      "outputs": [
        {
          "output_type": "stream",
          "name": "stdout",
          "text": [
            "Независимый двух-выборочный t-test:\n",
            "Группа A: Mean=1.73, Std. Dev.=0.57\n",
            "Группа B: Mean=3.14, Std. Dev.=0.56\n",
            "t-statistic: -24.77\n",
            "p-value: 0.0000\n",
            "Отбрасываем нулевую гипотезу, группы отличаются\n",
            "\n",
            "Тест Манна-Уитни:\n",
            "Группа A: Mean=1.73, Std. Dev.=0.57\n",
            "Группа B: Mean=3.14, Std. Dev.=0.56\n",
            "U-statistic: 1239.50\n",
            "p-value: 0.0000\n",
            "Отбрасываем нулевую гипотезу, группы отличаются\n",
            "\n",
            "Т-критерий Уилкоксона:\n",
            "Группа A: Mean=1.73, Std. Dev.=0.57\n",
            "Группа B: Mean=3.14, Std. Dev.=0.56\n",
            "z-statistic: 75.00\n",
            "p-value: 0.0000\n",
            "Отбрасываем нулевую гипотезу, группы отличаются\n"
          ]
        }
      ]
    },
    {
      "cell_type": "markdown",
      "source": [
        "Выводы по ноутбуку:\n",
        "\n",
        "\n",
        "*   Первым делом при работе с данными необходимо визуализировать их и, если необходимо, то провести требуемую предобработку, чтобы убрать выбросы, ошибки и прочее, что не подпадает под постановку задачи\n",
        "*   Оценка статистик выборок (экспериментальной и контрольной) позволяет понять предварительно, насколько различаются данные до и после внесения какого-либо изменения\n",
        "*   Для более точной оценки разницы между распределениями лучше использовать t-статистику, которая позволяет оценить p значение, которое может сказать о том, как сильно различаются данные. Однако данный тест исходит из предположения о нормальности исследуемых выборок\n",
        "* Важно также помнить, что окончательные выводы делаются с учетом специфики самой задачи, т.е. с учетом принципов выбора наилучшего кандидата (лекарства) на основе не только собранной статистики\n",
        "\n"
      ],
      "metadata": {
        "id": "trTu9naNjc-5"
      }
    },
    {
      "cell_type": "code",
      "source": [],
      "metadata": {
        "id": "Lz8mvisFl0Bp"
      },
      "execution_count": null,
      "outputs": []
    }
  ]
}